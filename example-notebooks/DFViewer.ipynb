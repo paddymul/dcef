{
 "cells": [
  {
   "cell_type": "markdown",
   "id": "e95ac3e5-4532-4aad-9ad1-4096d0e2d631",
   "metadata": {},
   "source": [
    "# DFViewer\n",
    "\n",
    "The DFViewerWidget allows you to display a dataframe like the the full BuckarooWidget, without any extra UI options.\n",
    "\n",
    "This works particularly well for embedding Buckaroo into widget or dashboarding frameworks like Solara"
   ]
  },
  {
   "cell_type": "code",
   "execution_count": null,
   "id": "c0150f9f-0fb0-487f-88ad-9c495c406e59",
   "metadata": {
    "tags": []
   },
   "outputs": [],
   "source": [
    "import pandas as pd\n",
    "from buckaroo import DFViewer"
   ]
  },
  {
   "cell_type": "markdown",
   "id": "acea57ee-06b6-4244-b6d4-fa14a8747e94",
   "metadata": {},
   "source": [
    "# Using the default DFViewer is straightforward"
   ]
  },
  {
   "cell_type": "code",
   "execution_count": null,
   "id": "db41edd1-0569-4cb4-b95a-aaf82e854903",
   "metadata": {
    "tags": []
   },
   "outputs": [],
   "source": [
    "df = pd.DataFrame({'a':[10, 20, 339, 887], 'b': ['foo', 'bar', None, 'baz']})\n",
    "DFViewer(df)"
   ]
  },
  {
   "cell_type": "markdown",
   "id": "fabc0d41-9343-463e-b2f5-b43671a1d7e2",
   "metadata": {},
   "source": [
    "## Removing pinned_rows"
   ]
  },
  {
   "cell_type": "code",
   "execution_count": null,
   "id": "4887466f-afaa-4adc-809a-bb4bdf064d17",
   "metadata": {
    "tags": []
   },
   "outputs": [],
   "source": [
    "DFViewer(df, pinned_rows=[])"
   ]
  },
  {
   "cell_type": "markdown",
   "id": "fa8be87e-3b64-44e4-acda-76bba7566990",
   "metadata": {},
   "source": [
    "## It works with polars too"
   ]
  },
  {
   "cell_type": "code",
   "execution_count": null,
   "id": "566d9cc1-c1bb-431b-bbab-776e029adebc",
   "metadata": {
    "tags": []
   },
   "outputs": [],
   "source": [
    "import polars as pl\n",
    "from buckaroo.polars_buckaroo import PolarsDFViewer\n",
    "pl_df = pl.DataFrame({'a':[10, 20, 339, 887], 'b': ['foo', 'bar', None, 'baz']})\n",
    "PolarsDFViewer(pl_df)"
   ]
  },
  {
   "cell_type": "code",
   "execution_count": null,
   "id": "2612ecd8-6cd4-4fe2-9246-4766b083e031",
   "metadata": {
    "tags": []
   },
   "outputs": [],
   "source": [
    "from buckaroo.buckaroo_widget import RawDFViewerWidget, BuckarooWidget\n",
    "from buckaroo.dataflow.widget_extension_utils import (configure_buckaroo)\n",
    "from buckaroo.dataflow.dataflow_extras import Sampling\n",
    "\n",
    "def DFViewer(df,\n",
    "             column_config_overrides=None,\n",
    "             extra_pinned_rows=None, pinned_rows=None,\n",
    "             extra_analysis_klasses=None, analysis_klasses=None,\n",
    "             widget_klass=BuckarooWidget):\n",
    "    \"\"\"\n",
    "    Display a DataFrame with buckaroo styling and analysis, no extra UI pieces\n",
    "\n",
    "    column_config_overrides allows targetted specific overriding of styling\n",
    "\n",
    "    extra_pinned_rows adds pinned_rows of summary stats\n",
    "    pinned_rows replaces the default pinned rows\n",
    "\n",
    "    extra_analysis_klasses adds an analysis_klass\n",
    "    analysis_klasses replaces default analysis_klass\n",
    "    \"\"\"\n",
    "    BuckarooKls = configure_buckaroo(\n",
    "        widget_klass,\n",
    "        extra_pinned_rows=extra_pinned_rows, pinned_rows=pinned_rows,\n",
    "        extra_analysis_klasses=extra_analysis_klasses, analysis_klasses=analysis_klasses)\n",
    "\n",
    "    bw = BuckarooKls(df, column_config_overrides=column_config_overrides)\n",
    "    dfv_config = bw.df_display_args['dfviewer_special']['df_viewer_config']\n",
    "    df_data = bw.df_data_dict['main']\n",
    "    summary_stats_data = bw.df_data_dict['all_stats']\n",
    "    return RawDFViewerWidget(\n",
    "        df_data=df_data, df_viewer_config=dfv_config, summary_stats_data=summary_stats_data)\n",
    "\n",
    "df = pd.DataFrame({'a':[10, 20, 339, 887], 'b': ['foo', 'bar', None, 'baz']})\n",
    "#DFViewer(df)\n",
    "\n",
    "class HeadTailSample(Sampling):\n",
    "    pre_limit = 5\n",
    "    max_columns = 1\n",
    "    serialize_limit = 11\n",
    "    head_tail_size = 5\n",
    "    \n",
    "    @classmethod\n",
    "    def serialize_sample(kls, df):\n",
    "        if kls.serialize_limit and len(df) > kls.serialize_limit:\n",
    "            \n",
    "            sampled = df.sample(kls.serialize_limit)\n",
    "            if isinstance(sampled, pd.DataFrame):\n",
    "                return sampled.sort_index()\n",
    "            return sampled\n",
    "        return df\n",
    "\n",
    "\n",
    "class TwoBuckaroo(BuckarooWidget):\n",
    "    sampling_klass = TwoSample\n",
    "DFViewer(df, widget_klass=TwoBuckaroo)\n"
   ]
  },
  {
   "cell_type": "code",
   "execution_count": null,
   "id": "068e1769-8968-4608-adcf-48e0980a1879",
   "metadata": {
    "tags": []
   },
   "outputs": [],
   "source": [
    "from buckaroo.buckaroo_widget import RawDFViewerWidget, BuckarooWidget\n",
    "from buckaroo.dataflow.widget_extension_utils import (configure_buckaroo)\n",
    "from buckaroo.dataflow.dataflow_extras import Sampling\n",
    "import numpy as np\n",
    "N = 100\n",
    "df = pd.DataFrame({'a':  np.random.lognormal(25, .3, N), 'b':[2]*N})\n",
    "#DFViewer(df)\n",
    "\n",
    "class HeadTailSample(Sampling):\n",
    "    pre_limit = False # disables any sampling for summary stats\n",
    "    serialize_limit = 11\n",
    "    head_tail_size = 5\n",
    "    \n",
    "    @classmethod\n",
    "    def serialize_sample(kls, df):\n",
    "        if kls.serialize_limit and len(df) > kls.serialize_limit:\n",
    "            if isinstance(df, pd.DataFrame):\n",
    "                ret_df = pd.concat([df[:kls.head_tail_size], df[(-1*kls.head_tail_size):]])\n",
    "                return ret_df\n",
    "        return df\n",
    "\n",
    "class HeadTailBuckaroo(BuckarooWidget):\n",
    "    sampling_klass = HeadTailSample\n",
    "DFViewer(df, widget_klass=HeadTailBuckaroo)"
   ]
  },
  {
   "cell_type": "code",
   "execution_count": null,
   "id": "5b20d452-ecb5-49f6-a030-0eccbb6ae96f",
   "metadata": {
    "tags": []
   },
   "outputs": [],
   "source": []
  },
  {
   "cell_type": "code",
   "execution_count": null,
   "id": "d789cc89-6af2-4565-8d33-b7c22aef28b6",
   "metadata": {},
   "outputs": [],
   "source": []
  }
 ],
 "metadata": {
  "kernelspec": {
   "display_name": "Python 3 (ipykernel)",
   "language": "python",
   "name": "python3"
  },
  "language_info": {
   "codemirror_mode": {
    "name": "ipython",
    "version": 3
   },
   "file_extension": ".py",
   "mimetype": "text/x-python",
   "name": "python",
   "nbconvert_exporter": "python",
   "pygments_lexer": "ipython3",
   "version": "3.11.7"
  },
  "widgets": {
   "application/vnd.jupyter.widget-state+json": {
    "state": {},
    "version_major": 2,
    "version_minor": 0
   }
  }
 },
 "nbformat": 4,
 "nbformat_minor": 5
}
